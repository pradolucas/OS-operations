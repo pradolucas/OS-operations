{
 "cells": [
  {
   "cell_type": "code",
   "execution_count": null,
   "metadata": {},
   "outputs": [],
   "source": [
    "import numpy as np\n",
    "from tabulate import tabulate\n",
    "import random as rd\n",
    "from threading import Thread\n",
    "from time import sleep"
   ]
  },
  {
   "attachments": {},
   "cell_type": "markdown",
   "metadata": {},
   "source": [
    "Parâmetros Iniciais"
   ]
  },
  {
   "cell_type": "code",
   "execution_count": null,
   "metadata": {},
   "outputs": [],
   "source": [
    "n_rec = 6\n",
    "n_processes = 5\n",
    "available = np.array(rd.sample(range(0,10), n_rec))\n",
    "allocation = np.random.randint(low=0, high=11, size=(n_processes, n_rec))\n",
    "maximum = allocation + np.random.randint(low=0, high=5, size=(n_processes, n_rec)) \n",
    "process_id = np.arange(1, n_processes+1)\n",
    "n_new_processes = 10"
   ]
  },
  {
   "cell_type": "markdown",
   "metadata": {},
   "source": [
    "Definição da classe e seus métodos"
   ]
  },
  {
   "cell_type": "code",
   "execution_count": null,
   "metadata": {},
   "outputs": [],
   "source": [
    "class Banker:\n",
    "    def __init__(self, process_id, available, allocation, maximum):\n",
    "        self.process_id = process_id.copy()\n",
    "        self.available = available.copy()\n",
    "        self.allocation = allocation.copy()\n",
    "        self.maximum = maximum.copy()\n",
    "        self.need = self.maximum - self.allocation\n",
    "        self.execution_order = []\n",
    "        self.last_process = self.process_id.max()\n",
    "   \n",
    "    def insert_process(self, request):\n",
    "\n",
    "        self.maximum = np.append(self.maximum, request, axis=0)\n",
    "        self.allocation = np.append(self.allocation, np.zeros_like(request), axis=0)\n",
    "        self.need = np.append(self.need, request, axis=0)\n",
    "        self.process_id = np.append(self.process_id, [self.last_process+1], axis=0)\n",
    "        self.last_process += 1\n",
    "\n",
    "    def execute_process(self, idx):\n",
    "        # Deleta o processo das listas e torna disponivel seus recursos\n",
    "        self.available += self.allocation[idx]\n",
    "        self.allocation = np.delete(self.allocation, idx, axis=0)\n",
    "        self.maximum = np.delete(self.maximum, idx, axis=0)\n",
    "        self.need = self.maximum - self.allocation\n",
    "        self.process_id = np.delete(self.process_id, idx, axis=0)\n",
    "\n",
    "    def is_safe(self):\n",
    "        print(f\"{'-'*20} Estado inicial {'-'*20}\")\n",
    "        print(self)        \n",
    "\n",
    "        while(True):   \n",
    "            # Quais processos são passíveis de ser finalizados         \n",
    "            self.possible = np.all(self.need <= self.available, axis=1)\n",
    "            \n",
    "            # Caso não haja mais processos\n",
    "            if(self.possible.size == 0):\n",
    "                print(\"Sem mais processos para computar\")\n",
    "                break\n",
    "\n",
    "            # Caso não haja mais nenhum processo possível então há um estado unsafe\n",
    "            if not any(self.possible):\n",
    "                print(\"Sem mais processos possíveis de serem executados, estado unsafe\")\n",
    "                return False, []\n",
    "\n",
    "            # Caso haja processo possível execute-o\n",
    "            print(f\"O(s) processo(s) {*self.process_id[self.possible],} pode(m) ser executado(s)\")\n",
    "            idx = np.argmax(self.possible)\n",
    "            process_id = self.process_id[idx]\n",
    "            self.execute_process(idx)   \n",
    "            print(f\"Processo {process_id} executado\")\n",
    "\n",
    "            # Grave a orde de execução\n",
    "            self.execution_order.append(process_id)\n",
    "            print(f\"\\n{'-'*20} Estado atual {'-'*20}\")\n",
    "            print(self)\n",
    "\n",
    "        return True, self.execution_order\n",
    "    \n",
    "    def __str__(self):\n",
    "        headers = [f\"R{i}\" for i in range(1, self.available.size+1)]\n",
    "        print(\"Maximum\")\n",
    "        print(tabulate(zip(self.process_id, *self.maximum.T), headers=[\"PID\"] + headers, tablefmt=\"fancy_grid\"))\n",
    "\n",
    "        print(\"Allocation\")\n",
    "        print(tabulate(zip(self.process_id, *self.allocation.T), headers=[\"PID\"] + headers, tablefmt=\"fancy_grid\"))\n",
    "\n",
    "        print(\"Need\")\n",
    "        print(tabulate(zip(self.process_id, *self.need.T), headers=[\"PID\"] + headers, tablefmt=\"fancy_grid\"))\n",
    "\n",
    "        print(\"Available\")\n",
    "        print(tabulate([self.available], headers=headers, tablefmt=\"fancy_grid\"))\n",
    "\n",
    "        return \"\"\n",
    "\n",
    "    def __repr__(self):\n",
    "        return self.__str__()"
   ]
  },
  {
   "attachments": {},
   "cell_type": "markdown",
   "metadata": {},
   "source": [
    "Instanciação da classe"
   ]
  },
  {
   "cell_type": "code",
   "execution_count": null,
   "metadata": {},
   "outputs": [],
   "source": [
    "banker = Banker(process_id, available, allocation, maximum)"
   ]
  },
  {
   "attachments": {},
   "cell_type": "markdown",
   "metadata": {},
   "source": [
    "### Caso pré-definido"
   ]
  },
  {
   "cell_type": "code",
   "execution_count": null,
   "metadata": {},
   "outputs": [],
   "source": [
    "banker.is_safe()"
   ]
  },
  {
   "attachments": {},
   "cell_type": "markdown",
   "metadata": {},
   "source": [
    "### Tentativa de inserção automática"
   ]
  },
  {
   "cell_type": "code",
   "execution_count": null,
   "metadata": {},
   "outputs": [],
   "source": [
    "n_new_processes=10\n",
    "if __name__ == '__main__':\n",
    "    while(n_new_processes>0):\n",
    "        new_process = np.random.randint(low=0, high=10, size=(1, n_rec))\n",
    "        Thread(target = banker.insert_process, kwargs={\"request\": new_process}).start()\n",
    "        Thread(target = banker.is_safe).start()\n",
    "        n_new_processes -= 1\n",
    "        sleep(15)\n",
    "\n",
    "# print(f\"Os processos foram executados na seguinte orderm {*banker.execution_order,}\")"
   ]
  }
 ],
 "metadata": {
  "kernelspec": {
   "display_name": ".venv",
   "language": "python",
   "name": "python3"
  },
  "language_info": {
   "codemirror_mode": {
    "name": "ipython",
    "version": 3
   },
   "file_extension": ".py",
   "mimetype": "text/x-python",
   "name": "python",
   "nbconvert_exporter": "python",
   "pygments_lexer": "ipython3",
   "version": "3.10.6"
  },
  "orig_nbformat": 4
 },
 "nbformat": 4,
 "nbformat_minor": 2
}
